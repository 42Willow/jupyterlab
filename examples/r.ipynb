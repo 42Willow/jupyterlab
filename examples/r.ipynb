{
 "cells": [
  {
   "cell_type": "code",
   "execution_count": 1,
   "id": "d6bb4957-29e3-428d-a3a5-845a591669cf",
   "metadata": {},
   "outputs": [
    {
     "name": "stderr",
     "output_type": "stream",
     "text": [
      "── \u001b[1mAttaching core tidyverse packages\u001b[22m ────────────────────────────────────────────────────────── tidyverse 2.0.0 ──\n",
      "\u001b[32m✔\u001b[39m \u001b[34mdplyr    \u001b[39m 1.1.2     \u001b[32m✔\u001b[39m \u001b[34mreadr    \u001b[39m 2.1.4\n",
      "\u001b[32m✔\u001b[39m \u001b[34mforcats  \u001b[39m 1.0.0     \u001b[32m✔\u001b[39m \u001b[34mstringr  \u001b[39m 1.5.0\n",
      "\u001b[32m✔\u001b[39m \u001b[34mggplot2  \u001b[39m 3.4.3     \u001b[32m✔\u001b[39m \u001b[34mtibble   \u001b[39m 3.2.1\n",
      "\u001b[32m✔\u001b[39m \u001b[34mlubridate\u001b[39m 1.9.2     \u001b[32m✔\u001b[39m \u001b[34mtidyr    \u001b[39m 1.3.0\n",
      "\u001b[32m✔\u001b[39m \u001b[34mpurrr    \u001b[39m 1.0.2     \n",
      "── \u001b[1mConflicts\u001b[22m ──────────────────────────────────────────────────────────────────────────── tidyverse_conflicts() ──\n",
      "\u001b[31m✖\u001b[39m \u001b[34mdplyr\u001b[39m::\u001b[32mfilter()\u001b[39m masks \u001b[34mstats\u001b[39m::filter()\n",
      "\u001b[31m✖\u001b[39m \u001b[34mdplyr\u001b[39m::\u001b[32mlag()\u001b[39m    masks \u001b[34mstats\u001b[39m::lag()\n",
      "\u001b[36mℹ\u001b[39m Use the conflicted package (\u001b[3m\u001b[34m<http://conflicted.r-lib.org/>\u001b[39m\u001b[23m) to force all conflicts to become errors\n"
     ]
    }
   ],
   "source": [
    "library(tidyverse)"
   ]
  },
  {
   "cell_type": "code",
   "execution_count": 5,
   "id": "8592b2d6-d514-41c1-b152-b2491512d510",
   "metadata": {},
   "outputs": [
    {
     "name": "stdout",
     "output_type": "stream",
     "text": [
      "[1] \"Hello world!\"\n",
      "[1] 4\n",
      "[1] 7\n",
      "[1] 12\n",
      "[1] 19\n",
      "[1] 28\n"
     ]
    }
   ],
   "source": [
    "# Define a function\n",
    "calc <- function(a, b) {\n",
    "    a + b ** 2\n",
    "}\n",
    "\n",
    "# Print an string\n",
    "if (TRUE) {\n",
    "    print(\"Hello world!\")\n",
    "}\n",
    "\n",
    "# Run loop calling a function\n",
    "for (i in 1:5) {\n",
    "    print(calc(3, i))\n",
    "}"
   ]
  },
  {
   "cell_type": "code",
   "execution_count": 3,
   "id": "22599090-565e-4fcf-81f0-19852d1e2f07",
   "metadata": {},
   "outputs": [
    {
     "data": {
      "text/html": [
       "87"
      ],
      "text/latex": [
       "87"
      ],
      "text/markdown": [
       "87"
      ],
      "text/plain": [
       "[1] 87"
      ]
     },
     "metadata": {},
     "output_type": "display_data"
    }
   ],
   "source": [
    "# Call an object explicitly specifying its library\n",
    "dplyr::starwars |> nrow()"
   ]
  },
  {
   "cell_type": "code",
   "execution_count": 4,
   "id": "ba781a44-755a-4168-8251-ece319657bdf",
   "metadata": {},
   "outputs": [
    {
     "data": {
      "text/html": [
       "<table class=\"dataframe\">\n",
       "<caption>A tibble: 3 × 3</caption>\n",
       "<thead>\n",
       "\t<tr><th scope=col>gender</th><th scope=col>avg_height</th><th scope=col>q95_mass</th></tr>\n",
       "\t<tr><th scope=col>&lt;chr&gt;</th><th scope=col>&lt;dbl&gt;</th><th scope=col>&lt;dbl&gt;</th></tr>\n",
       "</thead>\n",
       "<tbody>\n",
       "\t<tr><td>feminine </td><td>164.6875</td><td> 67.8</td></tr>\n",
       "\t<tr><td>masculine</td><td>176.5161</td><td>138.4</td></tr>\n",
       "\t<tr><td>NA       </td><td>181.3333</td><td> 48.0</td></tr>\n",
       "</tbody>\n",
       "</table>\n"
      ],
      "text/latex": [
       "A tibble: 3 × 3\n",
       "\\begin{tabular}{lll}\n",
       " gender & avg\\_height & q95\\_mass\\\\\n",
       " <chr> & <dbl> & <dbl>\\\\\n",
       "\\hline\n",
       "\t feminine  & 164.6875 &  67.8\\\\\n",
       "\t masculine & 176.5161 & 138.4\\\\\n",
       "\t NA        & 181.3333 &  48.0\\\\\n",
       "\\end{tabular}\n"
      ],
      "text/markdown": [
       "\n",
       "A tibble: 3 × 3\n",
       "\n",
       "| gender &lt;chr&gt; | avg_height &lt;dbl&gt; | q95_mass &lt;dbl&gt; |\n",
       "|---|---|---|\n",
       "| feminine  | 164.6875 |  67.8 |\n",
       "| masculine | 176.5161 | 138.4 |\n",
       "| NA        | 181.3333 |  48.0 |\n",
       "\n"
      ],
      "text/plain": [
       "  gender    avg_height q95_mass\n",
       "1 feminine  164.6875    67.8   \n",
       "2 masculine 176.5161   138.4   \n",
       "3 NA        181.3333    48.0   "
      ]
     },
     "metadata": {},
     "output_type": "display_data"
    }
   ],
   "source": [
    "starwars |>\n",
    "    group_by(gender) |>\n",
    "    summarise(\n",
    "        avg_height = mean(height, na.rm=TRUE),\n",
    "        q95_mass   = quantile(mass, c(0.95), na.rm=TRUE)\n",
    "    )"
   ]
  },
  {
   "cell_type": "code",
   "execution_count": 6,
   "id": "2511a5e2-9f3a-4a2a-9bbf-76ee01de14c3",
   "metadata": {},
   "outputs": [
    {
     "ename": "ERROR",
     "evalue": "Error in eval(expr, envir, enclos): objeto 'asdfg' não encontrado\n",
     "output_type": "error",
     "traceback": [
      "Error in eval(expr, envir, enclos): objeto 'asdfg' não encontrado\nTraceback:\n"
     ]
    }
   ],
   "source": [
    "asdfg"
   ]
  }
 ],
 "metadata": {
  "kernelspec": {
   "display_name": "R",
   "language": "R",
   "name": "ir"
  },
  "language_info": {
   "codemirror_mode": "r",
   "file_extension": ".r",
   "mimetype": "text/x-r-source",
   "name": "R",
   "pygments_lexer": "r",
   "version": "4.3.1"
  }
 },
 "nbformat": 4,
 "nbformat_minor": 5
}
